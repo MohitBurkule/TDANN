{
 "cells": [
  {
   "cell_type": "markdown",
   "id": "764f1e30-95dc-413c-9732-522c95191f47",
   "metadata": {},
   "source": [
    "### Warning: This notebook uses the full `spacetorch` installation instead of the src/ demo code!"
   ]
  },
  {
   "cell_type": "code",
   "execution_count": 1,
   "id": "745858f1-4d14-49c7-abd1-b8600edee9de",
   "metadata": {},
   "outputs": [
    {
     "name": "stderr",
     "output_type": "stream",
     "text": [
      "** fvcore version of PathManager will be deprecated soon. **\n",
      "** Please migrate to the version in iopath repo. **\n",
      "https://github.com/facebookresearch/iopath \n",
      "\n"
     ]
    }
   ],
   "source": [
    "from pathlib import Path\n",
    "\n",
    "import torch\n",
    "import torch.nn as nn\n",
    "\n",
    "from vissl.config import AttrDict\n",
    "from vissl.models.heads.linear_eval_mlp import LinearEvalMLP\n",
    "\n",
    "from spacetorch.datasets.imagenet import imagenet_validation_performance\n",
    "from spacetorch.models.trunks.resnet import VisslResNet\n",
    "from spacetorch.paths import CHECKPOINT_DIR"
   ]
  },
  {
   "cell_type": "markdown",
   "id": "f227af0b-d0b1-4809-b716-80cc17c628c1",
   "metadata": {},
   "source": [
    "## construct path to linear eval checkpoint"
   ]
  },
  {
   "cell_type": "code",
   "execution_count": 2,
   "id": "c8bfddce-6699-485a-be46-a78dcc51f4e7",
   "metadata": {},
   "outputs": [],
   "source": [
    "LIN_EVAL_DIR = CHECKPOINT_DIR / \"linear_eval\"\n",
    "weight_dir = Path(\n",
    "    LIN_EVAL_DIR / \"relu_rescue__simclr_spatial_resnet18_swappedon_SineGrating2019_isoswap_3_linear_eval_checkpoints\"\n",
    ")\n",
    "weight_path = weight_dir / \"model_final_checkpoint_phase27.torch\"\n",
    "assert weight_path.is_file()"
   ]
  },
  {
   "cell_type": "code",
   "execution_count": 3,
   "id": "154cef66-6ada-46fa-82ee-5b390876e93f",
   "metadata": {},
   "outputs": [],
   "source": [
    "ckpt = torch.load(weight_path, map_location='cpu')['classy_state_dict']['base_model']['model']"
   ]
  },
  {
   "cell_type": "markdown",
   "id": "ab3bf60b-399b-4ccb-a3b6-937862e80866",
   "metadata": {},
   "source": [
    "## Reconstruct trunk (self-supervised) and head (linear readout)"
   ]
  },
  {
   "cell_type": "code",
   "execution_count": 4,
   "id": "bc2be6be-56ee-4656-9623-ddc8ef21745a",
   "metadata": {},
   "outputs": [],
   "source": [
    "# specify the model config for trunk and head\n",
    "model_config = AttrDict(\n",
    "    {\n",
    "        \"TRUNK\": {\n",
    "            \"NAME\": \"custom_resnet\",\n",
    "            \"TRUNK_PARAMS\": {\n",
    "                \"VisslResNet\": {\n",
    "                    \"ARCH\": \"resnet18\"\n",
    "                }\n",
    "            }\n",
    "        },\n",
    "        \"HEAD\": {\n",
    "            \"BATCHNORM_EPS\": 1e-5,\n",
    "            \"BATCHNORM_MOMENTUM\": 0.1,\n",
    "            \"PARAMS_MULTIPLIER\": 1.0,\n",
    "        }\n",
    "    }\n",
    ")"
   ]
  },
  {
   "cell_type": "code",
   "execution_count": 5,
   "id": "c5c5df4c-728f-4f7b-b2fa-90a181d541bb",
   "metadata": {},
   "outputs": [
    {
     "name": "stdout",
     "output_type": "stream",
     "text": [
      "<All keys matched successfully>\n"
     ]
    }
   ],
   "source": [
    "trunk = VisslResNet(model_config, \"resnet18\")\n",
    "load_status = trunk.load_state_dict(ckpt['trunk'])\n",
    "print(load_status)"
   ]
  },
  {
   "cell_type": "code",
   "execution_count": 6,
   "id": "c6513868-c1b7-4d27-b3fb-9323c6a252d8",
   "metadata": {},
   "outputs": [
    {
     "name": "stdout",
     "output_type": "stream",
     "text": [
      "<All keys matched successfully>\n"
     ]
    }
   ],
   "source": [
    "head = LinearEvalMLP(\n",
    "    model_config=model_config, \n",
    "    in_channels=512, \n",
    "    dims=[512, 1000], \n",
    "    use_bn=False, \n",
    "    use_relu=False\n",
    ")\n",
    "\n",
    "# remove the leading \"0.\" in the checkpoint state dict:\n",
    "def remove_prefix(key, prefix: str = \"0.\"):\n",
    "    if key.startswith(prefix):\n",
    "        return key[len(prefix):]\n",
    "    return key \n",
    "\n",
    "modified_head_params = {remove_prefix(k, prefix=\"0.\"): v for k, v in ckpt['heads'].items()}\n",
    "load_status = head.load_state_dict(modified_head_params)\n",
    "print(load_status)"
   ]
  },
  {
   "cell_type": "markdown",
   "id": "6ceb7fbe-1e00-434e-8a11-8b4953450cc4",
   "metadata": {},
   "source": [
    "# Create a combined model by fusing trunk and head"
   ]
  },
  {
   "cell_type": "code",
   "execution_count": 7,
   "id": "ce1a1ff7-ba25-4a1d-9fe5-f0dc4421820f",
   "metadata": {},
   "outputs": [],
   "source": [
    "class CombinedModel(nn.Module):\n",
    "    def __init__(self, trunk: nn.Module, head: nn.Module):\n",
    "        super(CombinedModel, self).__init__()\n",
    "        self.trunk = trunk\n",
    "        self.head = head\n",
    "\n",
    "    def forward(self, x, **trunk_kwargs):\n",
    "        x = self.trunk(x, **trunk_kwargs)\n",
    "        if isinstance(x, (tuple, list)):\n",
    "            x = x[0]\n",
    "        x = self.head(x)\n",
    "        return x"
   ]
  },
  {
   "cell_type": "code",
   "execution_count": 8,
   "id": "613eff33-f9da-4733-96c2-83e53e7d3649",
   "metadata": {},
   "outputs": [],
   "source": [
    "DEVICE = \"cuda\" if torch.cuda.is_available() else \"cpu\""
   ]
  },
  {
   "cell_type": "code",
   "execution_count": 9,
   "id": "c60ca715-4319-4829-bc4a-8d2fdef12aa7",
   "metadata": {},
   "outputs": [],
   "source": [
    "trunk = trunk.eval().requires_grad_(False).to(DEVICE)\n",
    "head = head.eval().requires_grad_(False).to(DEVICE)"
   ]
  },
  {
   "cell_type": "code",
   "execution_count": 10,
   "id": "7734f578-c741-47bd-afa4-b73e59f2702b",
   "metadata": {},
   "outputs": [],
   "source": [
    "combined_model = CombinedModel(trunk=trunk, head=head)"
   ]
  },
  {
   "cell_type": "markdown",
   "id": "9d32bd9d-5558-4372-84fa-ae2b02385f47",
   "metadata": {},
   "source": [
    "## Get logits for some fake inputs"
   ]
  },
  {
   "cell_type": "code",
   "execution_count": 11,
   "id": "d66360c5-e61d-4f5e-877a-2ebafc54e4cf",
   "metadata": {},
   "outputs": [
    {
     "name": "stdout",
     "output_type": "stream",
     "text": [
      "outputs.shape=torch.Size([5, 1000])\n"
     ]
    }
   ],
   "source": [
    "batch_size, in_channels, height, width = 5, 3, 224, 224\n",
    "inputs = torch.rand(batch_size, in_channels, height, width).to(DEVICE)\n",
    "outputs = combined_model(inputs)\n",
    "\n",
    "print(f\"{outputs.shape=}\")"
   ]
  },
  {
   "cell_type": "markdown",
   "id": "4dd5afd2-4a64-4618-8415-3704611349e3",
   "metadata": {},
   "source": [
    "## Test on real imagenet images"
   ]
  },
  {
   "cell_type": "code",
   "execution_count": 12,
   "id": "003e2e87-85b4-4574-8c02-c47ddd1b1187",
   "metadata": {},
   "outputs": [
    {
     "name": "stderr",
     "output_type": "stream",
     "text": [
      "batch: 100%|████████████████████████████████████████████████████████████████████████████████████████████████████████████████████████████████████████████████████████| 100/100 [01:03<00:00,  1.57it/s]\n"
     ]
    }
   ],
   "source": [
    "top1 = imagenet_validation_performance(\n",
    "    model=combined_model,\n",
    "    output_layer=\"head\",\n",
    "    batch_size=64,\n",
    "    n_batches=100\n",
    ")"
   ]
  },
  {
   "cell_type": "code",
   "execution_count": 13,
   "id": "a7d48fc4-871d-453f-bb58-594f56014d3c",
   "metadata": {},
   "outputs": [
    {
     "name": "stdout",
     "output_type": "stream",
     "text": [
      "top1=0.42\n"
     ]
    }
   ],
   "source": [
    "print(f\"{top1=:.2f}\")"
   ]
  },
  {
   "cell_type": "code",
   "execution_count": null,
   "id": "f48e4af6-c3e2-4848-a9ab-aac19a2133d5",
   "metadata": {},
   "outputs": [],
   "source": []
  }
 ],
 "metadata": {
  "kernelspec": {
   "display_name": "Python 3 (ipykernel)",
   "language": "python",
   "name": "python3"
  },
  "language_info": {
   "codemirror_mode": {
    "name": "ipython",
    "version": 3
   },
   "file_extension": ".py",
   "mimetype": "text/x-python",
   "name": "python",
   "nbconvert_exporter": "python",
   "pygments_lexer": "ipython3",
   "version": "3.8.9"
  }
 },
 "nbformat": 4,
 "nbformat_minor": 5
}
